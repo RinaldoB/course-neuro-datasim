{
 "metadata": {
  "name": ""
 },
 "nbformat": 3,
 "nbformat_minor": 0,
 "worksheets": [
  {
   "cells": [
    {
     "cell_type": "heading",
     "level": 3,
     "metadata": {},
     "source": [
      "Introduction"
     ]
    },
    {
     "cell_type": "markdown",
     "metadata": {},
     "source": [
      "To complete the tasks below, write Python scripts that will reproduce your results and the \n",
      "corresponding result figures when you run them next time. We recommend to use ipython \n",
      "with the pylab option. Comment your scripts ! Use your scripts for notes, e.g. on different \n",
      "parameters that you have used or observations you have made. Print each of your result \n",
      "figures to an image file (using the Python 'savefig' command) and incorporate them in your \n",
      "final protocol. Write an appropriate figure caption for each figure, which must be incorporated \n",
      "in the protocol; axes labels need dimension and units; figure captions should include all \n",
      "relevant parameter values of the respective analysis. You may write the figure captions after\n",
      "you have finished an exercise or a section and before you start with a new section and new \n",
      "exercises. Please number the tasks in your protocol and answer all questions. In the \n",
      "protocol, describe with few sentences what you did to achieve each of the tasks."
     ]
    },
    {
     "cell_type": "heading",
     "level": 2,
     "metadata": {},
     "source": [
      "1. Firing rate estimation"
     ]
    },
    {
     "cell_type": "markdown",
     "metadata": {},
     "source": [
      "_Exercises_\n",
      "\n",
      "You may choose to either complete the exercises 1.1. or, alternatively, the exercises 1.2. \n",
      "Both exercises deal with the time-resolved estimation of the neuronal firing rate."
     ]
    },
    {
     "cell_type": "markdown",
     "metadata": {},
     "source": [
      "__Data__\n",
      "\n",
      "For firing rate estimation, I provide two files that contain output spike trains from a model neuron. The model neuron is a conductance-based leaky-integrate and fire neuron which includes a phenomenological model of spike frequency adaptation [2,8].\n",
      "\n",
      "- SFA_reg_1.5q_400tau_mn.gdf | SFA parameters j=-1.5nS and tau_SFA=400ms\n",
      "- SFA_reg_1.2q_200tau_mn.gdf | SFA parameters j=-1.2nS and tau_SFA=200ms\n",
      "\n",
      "The model neuron adapts to changes in its input. The simulation data assumes that after 3s of spontaneous input the neuron receives an increased input (stimulus) which lasts for 2s (stimulus duration), before it returns to the spontaneous level. The input was modeled by a Poisson process realization, which followed an intensity that stepped from an initial low value to a much higher value after 3s (cf. Fig. 7a-c in [8]). The simulation was run with a time resolution of 0.1ms (corresponding to a sample frequency of 10kHz)."
     ]
    },
    {
     "cell_type": "code",
     "collapsed": false,
     "input": [
      "# Please choose the right path to the data and the dataset here\n",
      "spikes_sfa_200 = loadtxt('data/SFA_reg_1.2q_200tau_mn.gdf')\n",
      "spikes_sfa_400 = loadtxt('data/SFA_reg_1.5q_400tau_mn.gdf')"
     ],
     "language": "python",
     "metadata": {},
     "outputs": [],
     "prompt_number": 5
    },
    {
     "cell_type": "heading",
     "level": 3,
     "metadata": {},
     "source": [
      "1.1. Peri Stimulus Time Histogram (PSTH)"
     ]
    },
    {
     "cell_type": "markdown",
     "metadata": {},
     "source": [
      "The PSTH is the classical tool for visualizing and analyzing time-varying firing rates of \n",
      "neurons (e.g. [3,4,1])."
     ]
    },
    {
     "cell_type": "markdown",
     "metadata": {},
     "source": [
      "* Chose one of the ASCII files from the list above and load it into the memory. It contains two columns of text-encoded numbers. The second row gives the spike times with a time resolution of 0.1ms (10-4s), while the first row contains the corresponding trial id's (i.e. the number of the experimental trial during which the corresponding spike was recorded) for each spike. Thus, in each row you have a pairof trial id and spike time. The simulations were repeated for a total of 100 trials. How many spikes had been recorded in total?"
     ]
    },
    {
     "cell_type": "code",
     "collapsed": false,
     "input": [
      "data = spikes_sfa_200\n",
      "print len(data), 'spikes have been recorded in total'"
     ],
     "language": "python",
     "metadata": {},
     "outputs": [
      {
       "output_type": "stream",
       "stream": "stdout",
       "text": [
        "9062 spikes have been recorded in total\n"
       ]
      }
     ],
     "prompt_number": 11
    },
    {
     "cell_type": "markdown",
     "metadata": {},
     "source": [
      "* Assign a new variable s to the spike times. Convert spike times to a 1 ms time resolution. Reference the spike times such that time t = 0 corresponds to the time of the stimulus onset $t_S$ by simply subtracting $t_S$ from the spike times. Assign the variable id to the trial ids in the first column of the original data array."
     ]
    },
    {
     "cell_type": "code",
     "collapsed": false,
     "input": [
      "trial_n = data[:,0]\n",
      "spike_times = data[:,1]\n",
      "# you need to construct s from spike_times as described above.\n",
      "# the ids are stored in the variable spike_times"
     ],
     "language": "python",
     "metadata": {},
     "outputs": [],
     "prompt_number": 18
    },
    {
     "cell_type": "markdown",
     "metadata": {},
     "source": [
      "* _Raster display_: Your first task is to visualize the spike trains \u2013 one for each experimental trial \u2013 in a so-called 'raster display' or 'dot display'.\n",
      "\n",
      "    Design Figure 1 for 3 panels which are arranged in one column. Open a new figure and use the below command\n",
      "    to open the top axes. For the raster diagram plot spike times (x-axis) against the  corresponding trial numbers (y-axis) such that each spike is represented by either a  single point or by a small vertical line element. Set the limits of the x-axis such that the full stimulus duration is covered."
     ]
    },
    {
     "cell_type": "code",
     "collapsed": false,
     "input": [
      "subplot(3,1,1)"
     ],
     "language": "python",
     "metadata": {},
     "outputs": [
      {
       "metadata": {},
       "output_type": "pyout",
       "prompt_number": 3,
       "text": [
        "<matplotlib.axes.AxesSubplot at 0x2b85d10>"
       ]
      },
      {
       "metadata": {},
       "output_type": "display_data",
       "png": "[encoded data removed]",
       "text": [
        "<matplotlib.figure.Figure at 0x2b856d0>"
       ]
      }
     ],
     "prompt_number": 3
    },
    {
     "cell_type": "markdown",
     "metadata": {},
     "source": [
      "* _PSTH_: Compute a PSTH from all spikes in all 100 trials following these steps:\n",
      "    1. define the bin width (the temporal width of your histogram classes) in ms\n",
      "    2. construct a suitable __bin vector__ (1d array of the histogram edges). All spike data should lie within the histogram classes, i.e. within the total experimental interval starting firs edge till the last edge; \n",
      "    3. in Python use the function numpy.histogram for constructing the histogram based on the bin array\n",
      "    4. visualize your result in a separate temporary figure. Choose different values of the parameter bin width and repeat analysis steps 2-4 until you are satisfied. Which bin width did you finally choose? What happens if you are choosing a very small or very large bin width?"
     ]
    },
    {
     "cell_type": "code",
     "collapsed": false,
     "input": [
      "# you need to contruct binarray first\n",
      "h, bins = numpy.histogram(s, binarray)"
     ],
     "language": "python",
     "metadata": {},
     "outputs": []
    },
    {
     "cell_type": "markdown",
     "metadata": {},
     "source": [
      "* Visualize the PSTH in the second panel of Figure 1 using the `pylab.bar` command (see below):\n",
      "\n",
      "    You can change settings of the bar plot by accessing the object b and using the 'setp' function. This way, you may for example change the properties of the bar histogram in order to generate a uniformly colored surface (cf. Appendix):"
     ]
    },
    {
     "cell_type": "code",
     "collapsed": false,
     "input": [
      "# Example Code\n",
      "bins = arange(-3,4,1) #star,stop,step\n",
      "dat = randn(1000)\n",
      "\n",
      "#calculate the histogram\n",
      "h, bins = numpy.histogram(dat, bins)\n",
      "\n",
      "#plotting\n",
      "b = bar(bins[0:h.size], h)\n",
      "_ = setp(b, width=1)"
     ],
     "language": "python",
     "metadata": {},
     "outputs": [
      {
       "metadata": {},
       "output_type": "display_data",
       "png": "[encoded data removed]",
       "text": [
        "<matplotlib.figure.Figure at 0x2c640d0>"
       ]
      }
     ],
     "prompt_number": 20
    },
    {
     "cell_type": "code",
     "collapsed": false,
     "input": [
      "# Aternatively, use hist to contruct the histogram and plot in one step\n",
      "h,bins,_ = hist(dat, bins)"
     ],
     "language": "python",
     "metadata": {},
     "outputs": [
      {
       "metadata": {},
       "output_type": "display_data",
       "png": "[encoded data removed]",
       "text": [
        "<matplotlib.figure.Figure at 0x7f77486af750>"
       ]
      }
     ],
     "prompt_number": 21
    },
    {
     "cell_type": "markdown",
     "metadata": {},
     "source": [
      "* Fano factor. Count the number of spikes during the stimulus epoch for each trial separately, then compute the variance of the spike count across trials. Now compute the Fano factor which is defined as the ratio of the variance of the spike count and the mean spike count. The Fano factor is a dimensionless (index), where the variance is normalized by the mean. It is often used to measure the trial-by-trial variability of neuronal activity. . A Poisson process has a Fano factor of 1. Is your data more or less variable than a Poisson process?"
     ]
    },
    {
     "cell_type": "markdown",
     "metadata": {},
     "source": [
      "* Check with your tutor for the correctness of tasks 1-6."
     ]
    },
    {
     "cell_type": "heading",
     "level": 3,
     "metadata": {},
     "source": [
      "1.2. Kernel convolution"
     ]
    }
   ],
   "metadata": {}
  }
 ]
}